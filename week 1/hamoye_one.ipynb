{
 "cells": [
  {
   "cell_type": "code",
   "execution_count": 4,
   "metadata": {},
   "outputs": [
    {
     "data": {
      "text/html": "<div>\n<style scoped>\n    .dataframe tbody tr th:only-of-type {\n        vertical-align: middle;\n    }\n\n    .dataframe tbody tr th {\n        vertical-align: top;\n    }\n\n    .dataframe thead th {\n        text-align: right;\n    }\n</style>\n<table border=\"1\" class=\"dataframe\">\n  <thead>\n    <tr style=\"text-align: right;\">\n      <th></th>\n      <th>record_id</th>\n      <th>utility_id_ferc1</th>\n      <th>report_year</th>\n      <th>plant_name_ferc1</th>\n      <th>fuel_type_code_pudl</th>\n      <th>fuel_unit</th>\n      <th>fuel_qty_burned</th>\n      <th>fuel_mmbtu_per_unit</th>\n      <th>fuel_cost_per_unit_burned</th>\n      <th>fuel_cost_per_unit_delivered</th>\n      <th>fuel_cost_per_mmbtu</th>\n    </tr>\n  </thead>\n  <tbody>\n    <tr>\n      <th>0</th>\n      <td>f1_fuel_1994_12_1_0_7</td>\n      <td>1</td>\n      <td>1994</td>\n      <td>rockport</td>\n      <td>coal</td>\n      <td>ton</td>\n      <td>5377489.0</td>\n      <td>16.590</td>\n      <td>18.59</td>\n      <td>18.53</td>\n      <td>1.121</td>\n    </tr>\n    <tr>\n      <th>1</th>\n      <td>f1_fuel_1994_12_1_0_10</td>\n      <td>1</td>\n      <td>1994</td>\n      <td>rockport total plant</td>\n      <td>coal</td>\n      <td>ton</td>\n      <td>10486945.0</td>\n      <td>16.592</td>\n      <td>18.58</td>\n      <td>18.53</td>\n      <td>1.120</td>\n    </tr>\n    <tr>\n      <th>2</th>\n      <td>f1_fuel_1994_12_2_0_1</td>\n      <td>2</td>\n      <td>1994</td>\n      <td>gorgas</td>\n      <td>coal</td>\n      <td>ton</td>\n      <td>2978683.0</td>\n      <td>24.130</td>\n      <td>39.72</td>\n      <td>38.12</td>\n      <td>1.650</td>\n    </tr>\n    <tr>\n      <th>3</th>\n      <td>f1_fuel_1994_12_2_0_7</td>\n      <td>2</td>\n      <td>1994</td>\n      <td>barry</td>\n      <td>coal</td>\n      <td>ton</td>\n      <td>3739484.0</td>\n      <td>23.950</td>\n      <td>47.21</td>\n      <td>45.99</td>\n      <td>1.970</td>\n    </tr>\n    <tr>\n      <th>4</th>\n      <td>f1_fuel_1994_12_2_0_10</td>\n      <td>2</td>\n      <td>1994</td>\n      <td>chickasaw</td>\n      <td>gas</td>\n      <td>mcf</td>\n      <td>40533.0</td>\n      <td>1.000</td>\n      <td>2.77</td>\n      <td>2.77</td>\n      <td>2.570</td>\n    </tr>\n  </tbody>\n</table>\n</div>",
      "text/plain": "                record_id  utility_id_ferc1  report_year  \\\n0   f1_fuel_1994_12_1_0_7                 1         1994   \n1  f1_fuel_1994_12_1_0_10                 1         1994   \n2   f1_fuel_1994_12_2_0_1                 2         1994   \n3   f1_fuel_1994_12_2_0_7                 2         1994   \n4  f1_fuel_1994_12_2_0_10                 2         1994   \n\n       plant_name_ferc1 fuel_type_code_pudl fuel_unit  fuel_qty_burned  \\\n0              rockport                coal       ton        5377489.0   \n1  rockport total plant                coal       ton       10486945.0   \n2                gorgas                coal       ton        2978683.0   \n3                 barry                coal       ton        3739484.0   \n4             chickasaw                 gas       mcf          40533.0   \n\n   fuel_mmbtu_per_unit  fuel_cost_per_unit_burned  \\\n0               16.590                      18.59   \n1               16.592                      18.58   \n2               24.130                      39.72   \n3               23.950                      47.21   \n4                1.000                       2.77   \n\n   fuel_cost_per_unit_delivered  fuel_cost_per_mmbtu  \n0                         18.53                1.121  \n1                         18.53                1.120  \n2                         38.12                1.650  \n3                         45.99                1.970  \n4                          2.77                2.570  "
     },
     "execution_count": 4,
     "metadata": {},
     "output_type": "execute_result"
    }
   ],
   "source": [
    "import pandas as pd\n",
    "electric_utility_data = pd.read_csv(\"electric.csv\")\n",
    "electric_utility_data_1st_four_yrs = electric_utility_data[electric_utility_data[\"report_year\"] <= 1998]\n",
    "\n",
    "electric_utility_data.head()"
   ]
  },
  {
   "cell_type": "code",
   "execution_count": 5,
   "metadata": {},
   "outputs": [
    {
     "data": {
      "text/html": "<div>\n<style scoped>\n    .dataframe tbody tr th:only-of-type {\n        vertical-align: middle;\n    }\n\n    .dataframe tbody tr th {\n        vertical-align: top;\n    }\n\n    .dataframe thead th {\n        text-align: right;\n    }\n</style>\n<table border=\"1\" class=\"dataframe\">\n  <thead>\n    <tr style=\"text-align: right;\">\n      <th></th>\n      <th>record_id</th>\n      <th>utility_id_ferc1</th>\n      <th>report_year</th>\n      <th>plant_name_ferc1</th>\n      <th>fuel_type_code_pudl</th>\n      <th>fuel_unit</th>\n      <th>fuel_qty_burned</th>\n      <th>fuel_mmbtu_per_unit</th>\n      <th>fuel_cost_per_unit_burned</th>\n      <th>fuel_cost_per_unit_delivered</th>\n      <th>fuel_cost_per_mmbtu</th>\n    </tr>\n  </thead>\n  <tbody>\n    <tr>\n      <th>0</th>\n      <td>f1_fuel_1994_12_1_0_7</td>\n      <td>1</td>\n      <td>1994</td>\n      <td>rockport</td>\n      <td>coal</td>\n      <td>ton</td>\n      <td>5377489.0</td>\n      <td>16.590</td>\n      <td>18.59</td>\n      <td>18.53</td>\n      <td>1.121</td>\n    </tr>\n    <tr>\n      <th>1</th>\n      <td>f1_fuel_1994_12_1_0_10</td>\n      <td>1</td>\n      <td>1994</td>\n      <td>rockport total plant</td>\n      <td>coal</td>\n      <td>ton</td>\n      <td>10486945.0</td>\n      <td>16.592</td>\n      <td>18.58</td>\n      <td>18.53</td>\n      <td>1.120</td>\n    </tr>\n    <tr>\n      <th>2</th>\n      <td>f1_fuel_1994_12_2_0_1</td>\n      <td>2</td>\n      <td>1994</td>\n      <td>gorgas</td>\n      <td>coal</td>\n      <td>ton</td>\n      <td>2978683.0</td>\n      <td>24.130</td>\n      <td>39.72</td>\n      <td>38.12</td>\n      <td>1.650</td>\n    </tr>\n    <tr>\n      <th>3</th>\n      <td>f1_fuel_1994_12_2_0_7</td>\n      <td>2</td>\n      <td>1994</td>\n      <td>barry</td>\n      <td>coal</td>\n      <td>ton</td>\n      <td>3739484.0</td>\n      <td>23.950</td>\n      <td>47.21</td>\n      <td>45.99</td>\n      <td>1.970</td>\n    </tr>\n    <tr>\n      <th>4</th>\n      <td>f1_fuel_1994_12_2_0_10</td>\n      <td>2</td>\n      <td>1994</td>\n      <td>chickasaw</td>\n      <td>gas</td>\n      <td>mcf</td>\n      <td>40533.0</td>\n      <td>1.000</td>\n      <td>2.77</td>\n      <td>2.77</td>\n      <td>2.570</td>\n    </tr>\n  </tbody>\n</table>\n</div>",
      "text/plain": "                record_id  utility_id_ferc1  report_year  \\\n0   f1_fuel_1994_12_1_0_7                 1         1994   \n1  f1_fuel_1994_12_1_0_10                 1         1994   \n2   f1_fuel_1994_12_2_0_1                 2         1994   \n3   f1_fuel_1994_12_2_0_7                 2         1994   \n4  f1_fuel_1994_12_2_0_10                 2         1994   \n\n       plant_name_ferc1 fuel_type_code_pudl fuel_unit  fuel_qty_burned  \\\n0              rockport                coal       ton        5377489.0   \n1  rockport total plant                coal       ton       10486945.0   \n2                gorgas                coal       ton        2978683.0   \n3                 barry                coal       ton        3739484.0   \n4             chickasaw                 gas       mcf          40533.0   \n\n   fuel_mmbtu_per_unit  fuel_cost_per_unit_burned  \\\n0               16.590                      18.59   \n1               16.592                      18.58   \n2               24.130                      39.72   \n3               23.950                      47.21   \n4                1.000                       2.77   \n\n   fuel_cost_per_unit_delivered  fuel_cost_per_mmbtu  \n0                         18.53                1.121  \n1                         18.53                1.120  \n2                         38.12                1.650  \n3                         45.99                1.970  \n4                          2.77                2.570  "
     },
     "execution_count": 5,
     "metadata": {},
     "output_type": "execute_result"
    }
   ],
   "source": [
    "electric_utility_data_1st_four_yrs.head()"
   ]
  },
  {
   "cell_type": "code",
   "execution_count": 6,
   "metadata": {},
   "outputs": [
    {
     "data": {
      "text/html": "<div>\n<style scoped>\n    .dataframe tbody tr th:only-of-type {\n        vertical-align: middle;\n    }\n\n    .dataframe tbody tr th {\n        vertical-align: top;\n    }\n\n    .dataframe thead th {\n        text-align: right;\n    }\n</style>\n<table border=\"1\" class=\"dataframe\">\n  <thead>\n    <tr style=\"text-align: right;\">\n      <th></th>\n      <th>utility_id_ferc1</th>\n      <th>report_year</th>\n      <th>fuel_qty_burned</th>\n      <th>fuel_mmbtu_per_unit</th>\n      <th>fuel_cost_per_unit_burned</th>\n      <th>fuel_cost_per_unit_delivered</th>\n      <th>fuel_cost_per_mmbtu</th>\n    </tr>\n  </thead>\n  <tbody>\n    <tr>\n      <th>count</th>\n      <td>5725.000000</td>\n      <td>5725.000000</td>\n      <td>5.725000e+03</td>\n      <td>5725.000000</td>\n      <td>5725.000000</td>\n      <td>5.725000e+03</td>\n      <td>5725.000000</td>\n    </tr>\n    <tr>\n      <th>mean</th>\n      <td>108.605939</td>\n      <td>1995.936594</td>\n      <td>3.019404e+06</td>\n      <td>10.604420</td>\n      <td>188.497989</td>\n      <td>3.952695e+03</td>\n      <td>2.911798</td>\n    </tr>\n    <tr>\n      <th>std</th>\n      <td>61.608116</td>\n      <td>1.426022</td>\n      <td>1.202901e+07</td>\n      <td>14.070916</td>\n      <td>2587.064225</td>\n      <td>1.549886e+05</td>\n      <td>11.498508</td>\n    </tr>\n    <tr>\n      <th>min</th>\n      <td>1.000000</td>\n      <td>1994.000000</td>\n      <td>1.000000e+00</td>\n      <td>0.000006</td>\n      <td>-85.760000</td>\n      <td>-8.564000e+01</td>\n      <td>-41.501000</td>\n    </tr>\n    <tr>\n      <th>25%</th>\n      <td>55.000000</td>\n      <td>1995.000000</td>\n      <td>4.838200e+04</td>\n      <td>1.020000</td>\n      <td>2.784000</td>\n      <td>2.473000e+00</td>\n      <td>1.304000</td>\n    </tr>\n    <tr>\n      <th>50%</th>\n      <td>120.000000</td>\n      <td>1996.000000</td>\n      <td>4.877310e+05</td>\n      <td>5.640600</td>\n      <td>18.050000</td>\n      <td>1.097700e+01</td>\n      <td>2.007000</td>\n    </tr>\n    <tr>\n      <th>75%</th>\n      <td>161.000000</td>\n      <td>1997.000000</td>\n      <td>1.708550e+06</td>\n      <td>20.880000</td>\n      <td>32.250000</td>\n      <td>2.937800e+01</td>\n      <td>3.019000</td>\n    </tr>\n    <tr>\n      <th>max</th>\n      <td>230.000000</td>\n      <td>1998.000000</td>\n      <td>5.558942e+08</td>\n      <td>341.260000</td>\n      <td>62609.000000</td>\n      <td>7.964521e+06</td>\n      <td>605.294000</td>\n    </tr>\n  </tbody>\n</table>\n</div>",
      "text/plain": "       utility_id_ferc1  report_year  fuel_qty_burned  fuel_mmbtu_per_unit  \\\ncount       5725.000000  5725.000000     5.725000e+03          5725.000000   \nmean         108.605939  1995.936594     3.019404e+06            10.604420   \nstd           61.608116     1.426022     1.202901e+07            14.070916   \nmin            1.000000  1994.000000     1.000000e+00             0.000006   \n25%           55.000000  1995.000000     4.838200e+04             1.020000   \n50%          120.000000  1996.000000     4.877310e+05             5.640600   \n75%          161.000000  1997.000000     1.708550e+06            20.880000   \nmax          230.000000  1998.000000     5.558942e+08           341.260000   \n\n       fuel_cost_per_unit_burned  fuel_cost_per_unit_delivered  \\\ncount                5725.000000                  5.725000e+03   \nmean                  188.497989                  3.952695e+03   \nstd                  2587.064225                  1.549886e+05   \nmin                   -85.760000                 -8.564000e+01   \n25%                     2.784000                  2.473000e+00   \n50%                    18.050000                  1.097700e+01   \n75%                    32.250000                  2.937800e+01   \nmax                 62609.000000                  7.964521e+06   \n\n       fuel_cost_per_mmbtu  \ncount          5725.000000  \nmean              2.911798  \nstd              11.498508  \nmin             -41.501000  \n25%               1.304000  \n50%               2.007000  \n75%               3.019000  \nmax             605.294000  "
     },
     "execution_count": 6,
     "metadata": {},
     "output_type": "execute_result"
    }
   ],
   "source": [
    "electric_utility_data_1st_four_yrs.describe()"
   ]
  },
  {
   "cell_type": "code",
   "execution_count": 7,
   "metadata": {},
   "outputs": [
    {
     "data": {
      "text/plain": "array(['ton', 'mcf', 'kgU', 'bbl', 'gramsU', nan, 'mwdth', 'mmbtu',\n       'mwhth', 'gal'], dtype=object)"
     },
     "execution_count": 7,
     "metadata": {},
     "output_type": "execute_result"
    }
   ],
   "source": [
    "electric_utility_data[\"fuel_unit\"].unique()"
   ]
  },
  {
   "cell_type": "code",
   "execution_count": 8,
   "metadata": {},
   "outputs": [
    {
     "data": {
      "text/plain": "fuel_unit\nbbl        7998\ngal          84\ngramsU      464\nkgU         110\nmcf       11354\nmmbtu       180\nmwdth        95\nmwhth       100\nton        8958\nName: fuel_unit, dtype: int64"
     },
     "execution_count": 8,
     "metadata": {},
     "output_type": "execute_result"
    }
   ],
   "source": [
    "fuel_unit =electric_utility_data.groupby(\"fuel_unit\")[\"fuel_unit\"].count()\n",
    "fuel_unit"
   ]
  },
  {
   "cell_type": "code",
   "execution_count": 9,
   "metadata": {},
   "outputs": [
    {
     "data": {
      "text/plain": "fuel_type_code_pudl\ncoal        8547\ngas        11486\nnuclear      818\noil         8064\nother        167\nwaste        441\nName: fuel_type_code_pudl, dtype: int64"
     },
     "execution_count": 9,
     "metadata": {},
     "output_type": "execute_result"
    }
   ],
   "source": [
    "electric_utility_data.groupby(\"fuel_type_code_pudl\")[\"fuel_type_code_pudl\"].count()"
   ]
  },
  {
   "cell_type": "code",
   "execution_count": 10,
   "metadata": {},
   "outputs": [
    {
     "data": {
      "text/plain": "Text(0.5, 0, 'Fuel Unit')"
     },
     "execution_count": 10,
     "metadata": {},
     "output_type": "execute_result"
    },
    {
     "data": {
      "image/png": "[encoded data removed]",
      "text/plain": "<Figure size 504x288 with 1 Axes>"
     },
     "metadata": {
      "needs_background": "light"
     },
     "output_type": "display_data"
    }
   ],
   "source": [
    "import matplotlib.pyplot as plt\n",
    "import seaborn as sns\n",
    "\n",
    "plt.figure(figsize=(7,4))\n",
    "plt.xticks(rotation=90)\n",
    "fuel_unit = pd.DataFrame({'unit':list(fuel_unit.index),\n",
    "            'count':list(fuel_unit.values)})\n",
    "sns.barplot(data=fuel_unit, x='unit', y='count')\n",
    "plt.xlabel('Fuel Unit')\n",
    "\n"
   ]
  },
  {
   "cell_type": "code",
   "execution_count": 11,
   "metadata": {},
   "outputs": [
    {
     "data": {
      "text/plain": "Text(0.5, 0, 'Fuel Unit')"
     },
     "execution_count": 11,
     "metadata": {},
     "output_type": "execute_result"
    },
    {
     "data": {
      "image/png": "[encoded data removed]",
      "text/plain": "<Figure size 432x288 with 1 Axes>"
     },
     "metadata": {
      "needs_background": "light"
     },
     "output_type": "display_data"
    }
   ],
   "source": [
    "#Because of the extreme range of the values for the fuel unit, we can plot the barchart by taking the logarithm of the y-axis as follows:\n",
    "\n",
    "g = sns.barplot(data=fuel_unit, x='unit', y='count')\n",
    "g.set_yscale(\"log\")\n",
    "g.set_ylim(1, 12000)\n",
    "plt.xlabel('Fuel Unit')"
   ]
  },
  {
   "cell_type": "code",
   "execution_count": null,
   "metadata": {},
   "outputs": [],
   "source": []
  }
 ],
 "metadata": {
  "kernelspec": {
   "display_name": "Python 3.7.9 64-bit ('Iqube': conda)",
   "name": "python379jvsc74a57bd0a3c16ad9d6641dbdaf23c6946074f6da2911858cf57e837d2cb4bf0f29db5b03"
  },
  "language_info": {
   "codemirror_mode": {
    "name": "ipython",
    "version": 3
   },
   "file_extension": ".py",
   "mimetype": "text/x-python",
   "name": "python",
   "nbconvert_exporter": "python",
   "pygments_lexer": "ipython3",
   "version": "3.7.9"
  },
  "orig_nbformat": 2
 },
 "nbformat": 4,
 "nbformat_minor": 2
}