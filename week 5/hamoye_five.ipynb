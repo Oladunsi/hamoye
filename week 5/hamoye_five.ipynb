{
 "cells": [
  {
   "cell_type": "code",
   "execution_count": null,
   "metadata": {},
   "outputs": [],
   "source": [
    "import pandas as pd\n"
   ]
  }
 ],
 "metadata": {
  "kernelspec": {
   "display_name": "Python 3.7.9 64-bit ('Iqube': conda)",
   "name": "python379jvsc74a57bd0a3c16ad9d6641dbdaf23c6946074f6da2911858cf57e837d2cb4bf0f29db5b03"
  },
  "language_info": {
   "name": "python",
   "version": ""
  },
  "orig_nbformat": 2
 },
 "nbformat": 4,
 "nbformat_minor": 2
}